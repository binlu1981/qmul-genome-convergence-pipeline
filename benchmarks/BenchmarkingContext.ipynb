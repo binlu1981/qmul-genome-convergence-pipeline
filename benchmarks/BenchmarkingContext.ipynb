{
 "metadata": {
  "name": "",
  "signature": "sha256:c711255f459182a3defb5be3eb20c9070c699b6eed6e5df818249319ebbc96d8"
 },
 "nbformat": 3,
 "nbformat_minor": 0,
 "worksheets": [
  {
   "cells": [
    {
     "cell_type": "code",
     "collapsed": false,
     "input": [
      "import os, sys, subprocess, time\n",
      "from shutil import copyfile\n",
      "\n",
      "dir = '/mnt/1C58FFD758FFAE20/nature_12511/cds_alns_20120815/'\n",
      "\n",
      "## try and copy some files by selecting randomly\n",
      "\n",
      "for i in range(3):\n",
      "    empty_list_dicts = {}\n",
      "    for file in os.listdir(dir):\n",
      "        #print file\n",
      "        empty_list_dicts[os.urandom(8)] = file\n",
      "    \n",
      "    print \"\\n\"\n",
      "    selection = 0\n",
      "    for k, v in sorted(empty_list_dicts.items()):\n",
      "        if selection < 5:\n",
      "            print k, \"\\t\\t\", v\n",
      "            fullpath = dir + v\n",
      "            copyfile(fullpath,\"./benchmark_inputs/\"+v)\n",
      "            selection+=1\n",
      "    print \"\\n\\n\""
     ],
     "language": "python",
     "metadata": {},
     "outputs": [
      {
       "output_type": "stream",
       "stream": "stdout",
       "text": [
        "\n",
        "\n",
        "\u0000\u001d",
        "\ufffd*\ufffdv\ufffd \t\tENSG00000163141_ng.fas\n",
        "\u0000%A{\u02d3:| \t\tENSG00000099937_ng.fas\n",
        "\u0000+\ufffd\ufffdX\u001e",
        "\u0010_ \t\tENSG00000151014_ng.fas\n",
        "\u0000:_<\ufffd\ufffdn \t\tENSG00000186660_ng.fas\n",
        "\u0000bU\ufffd;\ufffd\ufffd\b \t\tENSG00000159063_ng.fas\n",
        "\n",
        "\n",
        "\n",
        "\n",
        "\n",
        "\u0000\u000b",
        "p\ufffdR\ufffd\ufffd$ \t\tENSG00000125991_ng.fas\n",
        "\u0000\u001c",
        "\u07f9\u0278d\u0010 \t\tENSG00000009830_ng.fas\n",
        "\u0000%\ufffd\tn#a\ufffd \t\tENSG00000080511_ng.fas\n",
        "\u0000Z\ufffd\ufffda\ufffd\ufffd \t\tENSG00000028203_ng.fas\n",
        "\u0000t\ufffdpU\ufffd\n",
        "t \t\tENSG00000121064_ng.fas\n",
        "\n",
        "\n",
        "\n",
        "\n",
        "\n",
        "\u0000>qqB\ufffd\u04d9 \t\tENSG00000080511_ng.fas\n",
        "\u0000{\ufffd\ufffd\"\ufffd\ufffdl \t\tENSG00000163626_ng.fas\n",
        "\u0000}yr*\ufffd\u000fE \t\tENSG00000143324_ng.fas\n",
        "\u0000\ufffd\ufffd\ufffd\ufffd\u001a\u03f1 \t\tENSG00000141452_ng.fas\n",
        "\u0000\ufffd2\ufffdr\ufffdQ] \t\tENSG00000198060_ng.fas\n",
        "\n",
        "\n",
        "\n"
       ]
      }
     ],
     "prompt_number": 2
    },
    {
     "cell_type": "code",
     "collapsed": false,
     "input": [
      "#import time\n",
      "\n",
      "## time a system process\n",
      "\n",
      "#subprocess.call([\"ls\",\"-laht\"])\n",
      "\n",
      "#print subprocess.check_output(\"ls -laht\", shell=True)\n",
      "timing_string = 'java -jar ../trunk/builds-snapshots/CONTEXT-v0.8.4prerelease.jar /mnt/1C58FFD758FFAE20/nature_12511/manually_curated_2 >/dev/null 2>/dev/null'\n",
      "timing_string = 'java -jar ../trunk/builds-snapshots/CONTEXT-v0.8.4prerelease.jar /mnt/1C58FFD758FFAE20/nature_12511/cds_alns_20120815  >/dev/null 2>/dev/null'\n",
      "\n",
      "then = time.time()\n",
      "#print subprocess.check_output(timing_string, shell=True)\n",
      "now = time.time()\n",
      "#print (now - then)\n",
      "\n",
      "reps = {}\n",
      "index = 0\n",
      "for i in range(3):\n",
      "    then = time.time()\n",
      "    print subprocess.check_output(timing_string, shell=True)\n",
      "    now = time.time()\n",
      "    reps[index] = (now - then)\n",
      "    index += 1\n",
      "\n",
      "    \n",
      "print \"\\t\".join(str(x) for x in reps.values())"
     ],
     "language": "python",
     "metadata": {},
     "outputs": [
      {
       "output_type": "stream",
       "stream": "stdout",
       "text": [
        "\n"
       ]
      },
      {
       "output_type": "stream",
       "stream": "stdout",
       "text": [
        "\n"
       ]
      },
      {
       "output_type": "stream",
       "stream": "stdout",
       "text": [
        "\n",
        "17.6805820465\t20.422249794\t19.4442331791\n"
       ]
      }
     ],
     "prompt_number": 116
    },
    {
     "cell_type": "code",
     "collapsed": false,
     "input": [
      "nature_dir = '/mnt/1C58FFD758FFAE20/nature_12511/cds_alns_20120815/'\n",
      "timing_string_replicates = 'java -jar ../trunk/builds-snapshots/CONTEXT-v0.8.4prerelease.jar ./benchmark_inputs/  >/dev/null 2>/dev/null'\n",
      "source_contents = os.listdir(nature_dir)\n",
      "replicates = 5\n",
      "sampling_dir = \"./benchmark_inputs/\"\n",
      "\n",
      "for sample in [10,50,100,500,1000]:\n",
      "    print 'sampling' , sample\n",
      "\n",
      "    reps = {}\n",
      "    index = 0\n",
      "    for r in range(replicates):\n",
      "        empty_list_dicts = {}\n",
      "        #print 'replicate',r\n",
      "        \n",
      "        for file in source_contents:\n",
      "            #print file\n",
      "            empty_list_dicts[os.urandom(8)] = file\n",
      "    \n",
      "\n",
      "        selection = 0\n",
      "        for k, v in sorted(empty_list_dicts.items()):\n",
      "            if selection < sample:\n",
      "                #print k, \"\\t\\t\", v\n",
      "                fullpath = nature_dir + v\n",
      "                copyfile(fullpath,sampling_dir+v)\n",
      "                selection+=1\n",
      "\n",
      "        then = time.time()\n",
      "        print subprocess.check_output(timing_string_replicates, shell=True)\n",
      "        now = time.time()\n",
      "        print sample, \"\\t,\" , (now - then)\n",
      "        index += 1\n",
      "        #print \"\\n\"\n",
      "        \n",
      "#    print \"\\t\".join(str(x) for x in reps.values())\n",
      "#    print \"\\n--\\n\"\n",
      "    sampled_files = os.listdir(sampling_dir)\n",
      "    for file in sampled_files:\n",
      "        if file.endswith(\".fas\"):\n",
      "            os.remove(os.path.join(sampling_dir,file))\n",
      "    "
     ],
     "language": "python",
     "metadata": {},
     "outputs": [
      {
       "output_type": "stream",
       "stream": "stdout",
       "text": [
        "sampling 10\n"
       ]
      },
      {
       "output_type": "stream",
       "stream": "stdout",
       "text": [
        "\n",
        "10 \t, 19.6366457939\n"
       ]
      },
      {
       "output_type": "stream",
       "stream": "stdout",
       "text": [
        "\n",
        "10 \t, 3.55214595795\n"
       ]
      },
      {
       "output_type": "stream",
       "stream": "stdout",
       "text": [
        "\n",
        "10 \t, 2.63580513\n"
       ]
      },
      {
       "output_type": "stream",
       "stream": "stdout",
       "text": [
        "\n",
        "10 \t, 2.51521992683\n"
       ]
      },
      {
       "output_type": "stream",
       "stream": "stdout",
       "text": [
        "\n",
        "10 \t, 2.45821213722\n",
        "sampling 50\n"
       ]
      },
      {
       "ename": "KeyboardInterrupt",
       "evalue": "",
       "output_type": "pyerr",
       "traceback": [
        "\u001b[0;31m---------------------------------------------------------------------------\u001b[0m\n\u001b[0;31mKeyboardInterrupt\u001b[0m                         Traceback (most recent call last)",
        "\u001b[0;32m<ipython-input-129-7b60dbb95fe7>\u001b[0m in \u001b[0;36m<module>\u001b[0;34m()\u001b[0m\n\u001b[1;32m     28\u001b[0m \u001b[0;34m\u001b[0m\u001b[0m\n\u001b[1;32m     29\u001b[0m         \u001b[0mthen\u001b[0m \u001b[0;34m=\u001b[0m \u001b[0mtime\u001b[0m\u001b[0;34m.\u001b[0m\u001b[0mtime\u001b[0m\u001b[0;34m(\u001b[0m\u001b[0;34m)\u001b[0m\u001b[0;34m\u001b[0m\u001b[0m\n\u001b[0;32m---> 30\u001b[0;31m         \u001b[0;32mprint\u001b[0m \u001b[0msubprocess\u001b[0m\u001b[0;34m.\u001b[0m\u001b[0mcheck_output\u001b[0m\u001b[0;34m(\u001b[0m\u001b[0mtiming_string_replicates\u001b[0m\u001b[0;34m,\u001b[0m \u001b[0mshell\u001b[0m\u001b[0;34m=\u001b[0m\u001b[0mTrue\u001b[0m\u001b[0;34m)\u001b[0m\u001b[0;34m\u001b[0m\u001b[0m\n\u001b[0m\u001b[1;32m     31\u001b[0m         \u001b[0mnow\u001b[0m \u001b[0;34m=\u001b[0m \u001b[0mtime\u001b[0m\u001b[0;34m.\u001b[0m\u001b[0mtime\u001b[0m\u001b[0;34m(\u001b[0m\u001b[0;34m)\u001b[0m\u001b[0;34m\u001b[0m\u001b[0m\n\u001b[1;32m     32\u001b[0m         \u001b[0;32mprint\u001b[0m \u001b[0msample\u001b[0m\u001b[0;34m,\u001b[0m \u001b[0;34m\"\\t,\"\u001b[0m \u001b[0;34m,\u001b[0m \u001b[0;34m(\u001b[0m\u001b[0mnow\u001b[0m \u001b[0;34m-\u001b[0m \u001b[0mthen\u001b[0m\u001b[0;34m)\u001b[0m\u001b[0;34m\u001b[0m\u001b[0m\n",
        "\u001b[0;32m/usr/lib/python2.7/subprocess.pyc\u001b[0m in \u001b[0;36mcheck_output\u001b[0;34m(*popenargs, **kwargs)\u001b[0m\n\u001b[1;32m    566\u001b[0m         \u001b[0;32mraise\u001b[0m \u001b[0mValueError\u001b[0m\u001b[0;34m(\u001b[0m\u001b[0;34m'stdout argument not allowed, it will be overridden.'\u001b[0m\u001b[0;34m)\u001b[0m\u001b[0;34m\u001b[0m\u001b[0m\n\u001b[1;32m    567\u001b[0m     \u001b[0mprocess\u001b[0m \u001b[0;34m=\u001b[0m \u001b[0mPopen\u001b[0m\u001b[0;34m(\u001b[0m\u001b[0mstdout\u001b[0m\u001b[0;34m=\u001b[0m\u001b[0mPIPE\u001b[0m\u001b[0;34m,\u001b[0m \u001b[0;34m*\u001b[0m\u001b[0mpopenargs\u001b[0m\u001b[0;34m,\u001b[0m \u001b[0;34m**\u001b[0m\u001b[0mkwargs\u001b[0m\u001b[0;34m)\u001b[0m\u001b[0;34m\u001b[0m\u001b[0m\n\u001b[0;32m--> 568\u001b[0;31m     \u001b[0moutput\u001b[0m\u001b[0;34m,\u001b[0m \u001b[0munused_err\u001b[0m \u001b[0;34m=\u001b[0m \u001b[0mprocess\u001b[0m\u001b[0;34m.\u001b[0m\u001b[0mcommunicate\u001b[0m\u001b[0;34m(\u001b[0m\u001b[0;34m)\u001b[0m\u001b[0;34m\u001b[0m\u001b[0m\n\u001b[0m\u001b[1;32m    569\u001b[0m     \u001b[0mretcode\u001b[0m \u001b[0;34m=\u001b[0m \u001b[0mprocess\u001b[0m\u001b[0;34m.\u001b[0m\u001b[0mpoll\u001b[0m\u001b[0;34m(\u001b[0m\u001b[0;34m)\u001b[0m\u001b[0;34m\u001b[0m\u001b[0m\n\u001b[1;32m    570\u001b[0m     \u001b[0;32mif\u001b[0m \u001b[0mretcode\u001b[0m\u001b[0;34m:\u001b[0m\u001b[0;34m\u001b[0m\u001b[0m\n",
        "\u001b[0;32m/usr/lib/python2.7/subprocess.pyc\u001b[0m in \u001b[0;36mcommunicate\u001b[0;34m(self, input)\u001b[0m\n\u001b[1;32m    790\u001b[0m                 \u001b[0mself\u001b[0m\u001b[0;34m.\u001b[0m\u001b[0mstdin\u001b[0m\u001b[0;34m.\u001b[0m\u001b[0mclose\u001b[0m\u001b[0;34m(\u001b[0m\u001b[0;34m)\u001b[0m\u001b[0;34m\u001b[0m\u001b[0m\n\u001b[1;32m    791\u001b[0m             \u001b[0;32melif\u001b[0m \u001b[0mself\u001b[0m\u001b[0;34m.\u001b[0m\u001b[0mstdout\u001b[0m\u001b[0;34m:\u001b[0m\u001b[0;34m\u001b[0m\u001b[0m\n\u001b[0;32m--> 792\u001b[0;31m                 \u001b[0mstdout\u001b[0m \u001b[0;34m=\u001b[0m \u001b[0m_eintr_retry_call\u001b[0m\u001b[0;34m(\u001b[0m\u001b[0mself\u001b[0m\u001b[0;34m.\u001b[0m\u001b[0mstdout\u001b[0m\u001b[0;34m.\u001b[0m\u001b[0mread\u001b[0m\u001b[0;34m)\u001b[0m\u001b[0;34m\u001b[0m\u001b[0m\n\u001b[0m\u001b[1;32m    793\u001b[0m                 \u001b[0mself\u001b[0m\u001b[0;34m.\u001b[0m\u001b[0mstdout\u001b[0m\u001b[0;34m.\u001b[0m\u001b[0mclose\u001b[0m\u001b[0;34m(\u001b[0m\u001b[0;34m)\u001b[0m\u001b[0;34m\u001b[0m\u001b[0m\n\u001b[1;32m    794\u001b[0m             \u001b[0;32melif\u001b[0m \u001b[0mself\u001b[0m\u001b[0;34m.\u001b[0m\u001b[0mstderr\u001b[0m\u001b[0;34m:\u001b[0m\u001b[0;34m\u001b[0m\u001b[0m\n",
        "\u001b[0;32m/usr/lib/python2.7/subprocess.pyc\u001b[0m in \u001b[0;36m_eintr_retry_call\u001b[0;34m(func, *args)\u001b[0m\n\u001b[1;32m    474\u001b[0m     \u001b[0;32mwhile\u001b[0m \u001b[0mTrue\u001b[0m\u001b[0;34m:\u001b[0m\u001b[0;34m\u001b[0m\u001b[0m\n\u001b[1;32m    475\u001b[0m         \u001b[0;32mtry\u001b[0m\u001b[0;34m:\u001b[0m\u001b[0;34m\u001b[0m\u001b[0m\n\u001b[0;32m--> 476\u001b[0;31m             \u001b[0;32mreturn\u001b[0m \u001b[0mfunc\u001b[0m\u001b[0;34m(\u001b[0m\u001b[0;34m*\u001b[0m\u001b[0margs\u001b[0m\u001b[0;34m)\u001b[0m\u001b[0;34m\u001b[0m\u001b[0m\n\u001b[0m\u001b[1;32m    477\u001b[0m         \u001b[0;32mexcept\u001b[0m \u001b[0;34m(\u001b[0m\u001b[0mOSError\u001b[0m\u001b[0;34m,\u001b[0m \u001b[0mIOError\u001b[0m\u001b[0;34m)\u001b[0m \u001b[0;32mas\u001b[0m \u001b[0me\u001b[0m\u001b[0;34m:\u001b[0m\u001b[0;34m\u001b[0m\u001b[0m\n\u001b[1;32m    478\u001b[0m             \u001b[0;32mif\u001b[0m \u001b[0me\u001b[0m\u001b[0;34m.\u001b[0m\u001b[0merrno\u001b[0m \u001b[0;34m==\u001b[0m \u001b[0merrno\u001b[0m\u001b[0;34m.\u001b[0m\u001b[0mEINTR\u001b[0m\u001b[0;34m:\u001b[0m\u001b[0;34m\u001b[0m\u001b[0m\n",
        "\u001b[0;31mKeyboardInterrupt\u001b[0m: "
       ]
      }
     ],
     "prompt_number": 129
    },
    {
     "cell_type": "code",
     "collapsed": false,
     "input": [
      "#repeat for the 4spp and 10spp cases. they have more loci so we can push the sample sizes a bit B)\n",
      "\n",
      "mao_4_spp  = '/mnt/1C58FFD758FFAE20/mao_for_joe_4_spp/'\n",
      "mao_10_spp = '/mnt/1C58FFD758FFAE20/mao_for_joe_10_spp-genes3655/'\n",
      "\n",
      "timing_string_replicates = 'java -jar ../trunk/builds-snapshots/CONTEXT-v0.8.4prerelease.jar ./benchmark_inputs/  >/dev/null 2>/dev/null'\n",
      "\n",
      "source_contents = os.listdir(mao_4_spp)\n",
      "replicates = 5\n",
      "sampling_dir = \"./benchmark_inputs/\"\n",
      "\n",
      "for sample in [10,50,100,500,1000,2000,3000]:\n",
      "    print 'sampling 4spp' , sample\n",
      "\n",
      "    reps = {}\n",
      "    index = 0\n",
      "    for r in range(replicates):\n",
      "        empty_list_dicts = {}\n",
      "        #print 'replicate',r\n",
      "        \n",
      "        for file in source_contents:\n",
      "            #print file\n",
      "            empty_list_dicts[os.urandom(8)] = file\n",
      "    \n",
      "\n",
      "        selection = 0\n",
      "        for k, v in sorted(empty_list_dicts.items()):\n",
      "            if selection < sample:\n",
      "                #print k, \"\\t\\t\", v\n",
      "                fullpath = os.path.join(mao_4_spp,v)\n",
      "                destpath = os.path.join(sampling_dir,v)\n",
      "                copyfile(fullpath,destpath)\n",
      "                selection+=1\n",
      "\n",
      "        then = time.time()\n",
      "        print subprocess.check_output(timing_string_replicates, shell=True)\n",
      "        now = time.time()\n",
      "        print sample, \" 4spp\\t,\" , (now - then)\n",
      "        index += 1\n",
      "\n",
      "    # delete files before starting a new replicate\n",
      "    sampled_files = os.listdir(sampling_dir)\n",
      "    for file in sampled_files:\n",
      "        if file.endswith(\".fas\"):\n",
      "            os.remove(os.path.join(sampling_dir,file))\n",
      "        \n",
      "\n"
     ],
     "language": "python",
     "metadata": {},
     "outputs": [
      {
       "output_type": "stream",
       "stream": "stdout",
       "text": [
        "sampling 4spp 10\n"
       ]
      },
      {
       "output_type": "stream",
       "stream": "stdout",
       "text": [
        "\n",
        "10  4spp\t, 1.58277487755\n"
       ]
      },
      {
       "output_type": "stream",
       "stream": "stdout",
       "text": [
        "\n",
        "10  4spp\t, 2.17922616005\n"
       ]
      },
      {
       "output_type": "stream",
       "stream": "stdout",
       "text": [
        "\n",
        "10  4spp\t, 2.5121049881\n"
       ]
      },
      {
       "output_type": "stream",
       "stream": "stdout",
       "text": [
        "\n",
        "10  4spp\t, 2.75568699837\n"
       ]
      },
      {
       "output_type": "stream",
       "stream": "stdout",
       "text": [
        "\n",
        "10  4spp\t, 2.52475118637\n",
        "sampling 4spp 50\n"
       ]
      },
      {
       "output_type": "stream",
       "stream": "stdout",
       "text": [
        "\n",
        "50  4spp\t, 1.85684084892\n"
       ]
      },
      {
       "output_type": "stream",
       "stream": "stdout",
       "text": [
        "\n",
        "50  4spp\t, 2.0461230278\n"
       ]
      },
      {
       "output_type": "stream",
       "stream": "stdout",
       "text": [
        "\n",
        "50  4spp\t, 2.2604329586\n"
       ]
      },
      {
       "output_type": "stream",
       "stream": "stdout",
       "text": [
        "\n",
        "50  4spp\t, 2.95298600197\n"
       ]
      },
      {
       "output_type": "stream",
       "stream": "stdout",
       "text": [
        "\n",
        "50  4spp\t, 3.93484902382\n",
        "sampling 4spp 100\n"
       ]
      },
      {
       "output_type": "stream",
       "stream": "stdout",
       "text": [
        "\n",
        "100  4spp\t, 2.7034869194\n"
       ]
      },
      {
       "output_type": "stream",
       "stream": "stdout",
       "text": [
        "\n",
        "100  4spp\t, 3.5322368145\n"
       ]
      },
      {
       "output_type": "stream",
       "stream": "stdout",
       "text": [
        "\n",
        "100  4spp\t, 3.84625291824\n"
       ]
      },
      {
       "output_type": "stream",
       "stream": "stdout",
       "text": [
        "\n",
        "100  4spp\t, 4.44512796402\n"
       ]
      },
      {
       "output_type": "stream",
       "stream": "stdout",
       "text": [
        "\n",
        "100  4spp\t, 3.46485590935\n",
        "sampling 4spp 500\n"
       ]
      },
      {
       "output_type": "stream",
       "stream": "stdout",
       "text": [
        "\n",
        "500  4spp\t, 3.46539378166\n"
       ]
      },
      {
       "output_type": "stream",
       "stream": "stdout",
       "text": [
        "\n",
        "500  4spp\t, 6.34997606277\n"
       ]
      },
      {
       "output_type": "stream",
       "stream": "stdout",
       "text": [
        "\n",
        "500  4spp\t, 7.0402469635\n"
       ]
      },
      {
       "output_type": "stream",
       "stream": "stdout",
       "text": [
        "\n",
        "500  4spp\t, 8.44225502014\n"
       ]
      },
      {
       "output_type": "stream",
       "stream": "stdout",
       "text": [
        "\n",
        "500  4spp\t, 9.47916102409\n",
        "sampling 4spp 1000\n"
       ]
      },
      {
       "output_type": "stream",
       "stream": "stdout",
       "text": [
        "\n",
        "1000  4spp\t, 5.41596484184\n"
       ]
      },
      {
       "output_type": "stream",
       "stream": "stdout",
       "text": [
        "\n",
        "1000  4spp\t, 8.71396589279\n"
       ]
      },
      {
       "output_type": "stream",
       "stream": "stdout",
       "text": [
        "\n",
        "1000  4spp\t, 10.4510240555\n"
       ]
      },
      {
       "output_type": "stream",
       "stream": "stdout",
       "text": [
        "\n",
        "1000  4spp\t, 16.767770052\n"
       ]
      },
      {
       "output_type": "stream",
       "stream": "stdout",
       "text": [
        "\n",
        "1000  4spp\t, 17.6102850437\n",
        "sampling 4spp"
       ]
      },
      {
       "output_type": "stream",
       "stream": "stdout",
       "text": [
        " 2000\n"
       ]
      },
      {
       "output_type": "stream",
       "stream": "stdout",
       "text": [
        "\n",
        "2000  4spp\t, 13.4019188881\n"
       ]
      },
      {
       "output_type": "stream",
       "stream": "stdout",
       "text": [
        "\n",
        "2000  4spp\t, 15.9511191845\n"
       ]
      },
      {
       "output_type": "stream",
       "stream": "stdout",
       "text": [
        "\n",
        "2000  4spp\t, 21.3692679405\n"
       ]
      },
      {
       "output_type": "stream",
       "stream": "stdout",
       "text": [
        "\n",
        "2000  4spp\t, 23.8332710266\n"
       ]
      },
      {
       "output_type": "stream",
       "stream": "stdout",
       "text": [
        "\n",
        "2000  4spp\t, 22.4969081879\n",
        "sampling 4spp"
       ]
      },
      {
       "output_type": "stream",
       "stream": "stdout",
       "text": [
        " 3000\n"
       ]
      },
      {
       "output_type": "stream",
       "stream": "stdout",
       "text": [
        "\n",
        "3000  4spp\t, 18.4062731266\n"
       ]
      },
      {
       "output_type": "stream",
       "stream": "stdout",
       "text": [
        "\n",
        "3000  4spp\t, 21.6092641354\n"
       ]
      },
      {
       "output_type": "stream",
       "stream": "stdout",
       "text": [
        "\n",
        "3000  4spp\t, 23.1136000156\n"
       ]
      },
      {
       "output_type": "stream",
       "stream": "stdout",
       "text": [
        "\n",
        "3000  4spp\t, 23.5562138557\n"
       ]
      },
      {
       "output_type": "stream",
       "stream": "stdout",
       "text": [
        "\n",
        "3000  4spp\t, 23.7470309734\n",
        "sampling 10spp"
       ]
      },
      {
       "output_type": "stream",
       "stream": "stdout",
       "text": [
        " 10\n"
       ]
      },
      {
       "output_type": "stream",
       "stream": "stdout",
       "text": [
        "\n",
        "10  10spp\t, 1.89085292816\n"
       ]
      },
      {
       "output_type": "stream",
       "stream": "stdout",
       "text": [
        "\n",
        "10  10spp\t, 2.34957098961\n"
       ]
      },
      {
       "output_type": "stream",
       "stream": "stdout",
       "text": [
        "\n",
        "10  10spp\t, 1.67173314095\n"
       ]
      },
      {
       "output_type": "stream",
       "stream": "stdout",
       "text": [
        "\n",
        "10  10spp\t, 1.62404704094\n"
       ]
      },
      {
       "output_type": "stream",
       "stream": "stdout",
       "text": [
        "\n",
        "10  10spp\t, 1.77298688889\n",
        "sampling 10spp 50\n"
       ]
      },
      {
       "output_type": "stream",
       "stream": "stdout",
       "text": [
        "\n",
        "50  10spp\t, 74.2472879887\n"
       ]
      },
      {
       "output_type": "stream",
       "stream": "stdout",
       "text": [
        "\n",
        "50  10spp\t, 7.78464984894\n"
       ]
      },
      {
       "output_type": "stream",
       "stream": "stdout",
       "text": [
        "\n",
        "50  10spp\t, 4.90073394775\n"
       ]
      },
      {
       "output_type": "stream",
       "stream": "stdout",
       "text": [
        "\n",
        "50  10spp\t, 2.73154401779\n"
       ]
      },
      {
       "output_type": "stream",
       "stream": "stdout",
       "text": [
        "\n",
        "50  10spp\t, 7.49749898911\n",
        "sampling 10spp 100\n"
       ]
      },
      {
       "output_type": "stream",
       "stream": "stdout",
       "text": [
        "\n",
        "100  10spp\t, 2.57915282249\n"
       ]
      },
      {
       "output_type": "stream",
       "stream": "stdout",
       "text": [
        "\n",
        "100  10spp\t, 5.0760269165\n"
       ]
      },
      {
       "output_type": "stream",
       "stream": "stdout",
       "text": [
        "\n",
        "100  10spp\t, 3.66841292381\n"
       ]
      },
      {
       "output_type": "stream",
       "stream": "stdout",
       "text": [
        "\n",
        "100  10spp\t, 4.11307311058\n"
       ]
      },
      {
       "output_type": "stream",
       "stream": "stdout",
       "text": [
        "\n",
        "100  10spp\t, 3.09793400764\n",
        "sampling 10spp 500\n"
       ]
      },
      {
       "output_type": "stream",
       "stream": "stdout",
       "text": [
        "\n",
        "500  10spp\t, 2.65912604332\n"
       ]
      },
      {
       "output_type": "stream",
       "stream": "stdout",
       "text": [
        "\n",
        "500  10spp\t, 3.13164806366\n"
       ]
      },
      {
       "output_type": "stream",
       "stream": "stdout",
       "text": [
        "\n",
        "500  10spp\t, 3.13235807419\n"
       ]
      },
      {
       "output_type": "stream",
       "stream": "stdout",
       "text": [
        "\n",
        "500  10spp\t, 6.07393908501\n"
       ]
      },
      {
       "output_type": "stream",
       "stream": "stdout",
       "text": [
        "\n",
        "500  10spp\t, 6.01202011108\n",
        "sampling 10spp"
       ]
      },
      {
       "output_type": "stream",
       "stream": "stdout",
       "text": [
        " 1000\n"
       ]
      },
      {
       "output_type": "stream",
       "stream": "stdout",
       "text": [
        "\n",
        "1000  10spp\t, 2.64338994026\n"
       ]
      },
      {
       "output_type": "stream",
       "stream": "stdout",
       "text": [
        "\n",
        "1000  10spp\t, 2.970028162\n"
       ]
      },
      {
       "output_type": "stream",
       "stream": "stdout",
       "text": [
        "\n",
        "1000  10spp\t, 4.77114510536\n"
       ]
      },
      {
       "output_type": "stream",
       "stream": "stdout",
       "text": [
        "\n",
        "1000  10spp\t, 3.60262298584\n"
       ]
      },
      {
       "output_type": "stream",
       "stream": "stdout",
       "text": [
        "\n",
        "1000  10spp\t, 4.069409132\n",
        "sampling 10spp"
       ]
      },
      {
       "output_type": "stream",
       "stream": "stdout",
       "text": [
        " 2000\n"
       ]
      },
      {
       "output_type": "stream",
       "stream": "stdout",
       "text": [
        "\n",
        "2000  10spp\t, 6.12603902817\n"
       ]
      },
      {
       "output_type": "stream",
       "stream": "stdout",
       "text": [
        "\n",
        "2000  10spp\t, 2.59027600288\n"
       ]
      },
      {
       "output_type": "stream",
       "stream": "stdout",
       "text": [
        "\n",
        "2000  10spp\t, 4.49922394753\n"
       ]
      },
      {
       "output_type": "stream",
       "stream": "stdout",
       "text": [
        "\n",
        "2000  10spp\t, 1.88438987732\n"
       ]
      },
      {
       "output_type": "stream",
       "stream": "stdout",
       "text": [
        "\n",
        "2000  10spp\t, 2.1383600235\n",
        "sampling 10spp"
       ]
      },
      {
       "output_type": "stream",
       "stream": "stdout",
       "text": [
        " 3000\n"
       ]
      },
      {
       "output_type": "stream",
       "stream": "stdout",
       "text": [
        "\n",
        "3000  10spp\t, 2.41932702065\n"
       ]
      },
      {
       "output_type": "stream",
       "stream": "stdout",
       "text": [
        "\n",
        "3000  10spp\t, 9.24398303032\n"
       ]
      },
      {
       "output_type": "stream",
       "stream": "stdout",
       "text": [
        "\n",
        "3000  10spp\t, 1.82261800766\n"
       ]
      },
      {
       "output_type": "stream",
       "stream": "stdout",
       "text": [
        "\n",
        "3000  10spp\t, 2.56486582756\n"
       ]
      },
      {
       "output_type": "stream",
       "stream": "stdout",
       "text": [
        "\n",
        "3000  10spp\t, 2.41437482834\n"
       ]
      }
     ],
     "prompt_number": 132
    },
    {
     "cell_type": "code",
     "collapsed": false,
     "input": [
      "#repeat for the 4spp and 10spp cases. they have more loci so we can push the sample sizes a bit B)\n",
      "\n",
      "mao_4_spp  = '/mnt/1C58FFD758FFAE20/mao_for_joe_4_spp/'\n",
      "mao_10_spp = '/mnt/1C58FFD758FFAE20/mao_for_joe_10_spp-genes3655/'\n",
      "\n",
      "timing_string_replicates = 'java -jar ../trunk/builds-snapshots/CONTEXT-v0.8.4prerelease.jar ./benchmark_inputs/  >/dev/null 2>/dev/null'\n",
      "\n",
      "source_contents = os.listdir(mao_10_spp)\n",
      "replicates = 5\n",
      "sampling_dir = \"./benchmark_inputs/\"\n",
      "\n",
      "for sample in [10,50,100,500,1000,2000,3000]:\n",
      "    print 'sampling 10spp' , sample\n",
      "\n",
      "    reps = {}\n",
      "    index = 0\n",
      "    \n",
      "    #read in files, random keys to sort them on\n",
      "    for r in range(replicates):\n",
      "        empty_list_dicts = {}\n",
      "        #print 'replicate',r\n",
      "        \n",
      "        for file in source_contents:\n",
      "            #print file\n",
      "            empty_list_dicts[os.urandom(8)] = file\n",
      "    \n",
      "        \n",
      "        # select (sample) of them\n",
      "        selection = 0\n",
      "        for k, v in sorted(empty_list_dicts.items()):\n",
      "            if selection < sample:\n",
      "                #print k, \"\\t\\t\", v\n",
      "                fullpath = os.path.join(mao_10_spp,v)\n",
      "                destpath = os.path.join(sampling_dir,v)\n",
      "                copyfile(fullpath,destpath)\n",
      "                selection+=1\n",
      "\n",
      "        # run the context benchmark on this sample \n",
      "        then = time.time()\n",
      "        print subprocess.check_output(timing_string_replicates, shell=True)\n",
      "        now = time.time()\n",
      "        print sample, \" 10spp\\t,\" , (now - then)\n",
      "        index += 1\n",
      "        \n",
      "    # delete files before starting a new replicate\n",
      "    sampled_files = os.listdir(sampling_dir)\n",
      "    for file in sampled_files:\n",
      "        if file.endswith(\".fas\"):\n",
      "            os.remove(os.path.join(sampling_dir,file))\n"
     ],
     "language": "python",
     "metadata": {},
     "outputs": [
      {
       "output_type": "stream",
       "stream": "stdout",
       "text": [
        "sampling 10spp 10\n"
       ]
      },
      {
       "output_type": "stream",
       "stream": "stdout",
       "text": [
        "\n",
        "10  10spp\t, 2.14279484749\n"
       ]
      },
      {
       "output_type": "stream",
       "stream": "stdout",
       "text": [
        "\n",
        "10  10spp\t, 2.60431194305\n"
       ]
      },
      {
       "output_type": "stream",
       "stream": "stdout",
       "text": [
        "\n",
        "10  10spp\t, 1.84968781471\n"
       ]
      },
      {
       "ename": "KeyboardInterrupt",
       "evalue": "",
       "output_type": "pyerr",
       "traceback": [
        "\u001b[0;31m---------------------------------------------------------------------------\u001b[0m\n\u001b[0;31mKeyboardInterrupt\u001b[0m                         Traceback (most recent call last)",
        "\u001b[0;32m<ipython-input-4-da8f63bda304>\u001b[0m in \u001b[0;36m<module>\u001b[0;34m()\u001b[0m\n\u001b[1;32m     38\u001b[0m         \u001b[0;31m# run the context benchmark on this sample\u001b[0m\u001b[0;34m\u001b[0m\u001b[0;34m\u001b[0m\u001b[0m\n\u001b[1;32m     39\u001b[0m         \u001b[0mthen\u001b[0m \u001b[0;34m=\u001b[0m \u001b[0mtime\u001b[0m\u001b[0;34m.\u001b[0m\u001b[0mtime\u001b[0m\u001b[0;34m(\u001b[0m\u001b[0;34m)\u001b[0m\u001b[0;34m\u001b[0m\u001b[0m\n\u001b[0;32m---> 40\u001b[0;31m         \u001b[0;32mprint\u001b[0m \u001b[0msubprocess\u001b[0m\u001b[0;34m.\u001b[0m\u001b[0mcheck_output\u001b[0m\u001b[0;34m(\u001b[0m\u001b[0mtiming_string_replicates\u001b[0m\u001b[0;34m,\u001b[0m \u001b[0mshell\u001b[0m\u001b[0;34m=\u001b[0m\u001b[0mTrue\u001b[0m\u001b[0;34m)\u001b[0m\u001b[0;34m\u001b[0m\u001b[0m\n\u001b[0m\u001b[1;32m     41\u001b[0m         \u001b[0mnow\u001b[0m \u001b[0;34m=\u001b[0m \u001b[0mtime\u001b[0m\u001b[0;34m.\u001b[0m\u001b[0mtime\u001b[0m\u001b[0;34m(\u001b[0m\u001b[0;34m)\u001b[0m\u001b[0;34m\u001b[0m\u001b[0m\n\u001b[1;32m     42\u001b[0m         \u001b[0;32mprint\u001b[0m \u001b[0msample\u001b[0m\u001b[0;34m,\u001b[0m \u001b[0;34m\" 10spp\\t,\"\u001b[0m \u001b[0;34m,\u001b[0m \u001b[0;34m(\u001b[0m\u001b[0mnow\u001b[0m \u001b[0;34m-\u001b[0m \u001b[0mthen\u001b[0m\u001b[0;34m)\u001b[0m\u001b[0;34m\u001b[0m\u001b[0m\n",
        "\u001b[0;32m/usr/lib/python2.7/subprocess.pyc\u001b[0m in \u001b[0;36mcheck_output\u001b[0;34m(*popenargs, **kwargs)\u001b[0m\n\u001b[1;32m    566\u001b[0m         \u001b[0;32mraise\u001b[0m \u001b[0mValueError\u001b[0m\u001b[0;34m(\u001b[0m\u001b[0;34m'stdout argument not allowed, it will be overridden.'\u001b[0m\u001b[0;34m)\u001b[0m\u001b[0;34m\u001b[0m\u001b[0m\n\u001b[1;32m    567\u001b[0m     \u001b[0mprocess\u001b[0m \u001b[0;34m=\u001b[0m \u001b[0mPopen\u001b[0m\u001b[0;34m(\u001b[0m\u001b[0mstdout\u001b[0m\u001b[0;34m=\u001b[0m\u001b[0mPIPE\u001b[0m\u001b[0;34m,\u001b[0m \u001b[0;34m*\u001b[0m\u001b[0mpopenargs\u001b[0m\u001b[0;34m,\u001b[0m \u001b[0;34m**\u001b[0m\u001b[0mkwargs\u001b[0m\u001b[0;34m)\u001b[0m\u001b[0;34m\u001b[0m\u001b[0m\n\u001b[0;32m--> 568\u001b[0;31m     \u001b[0moutput\u001b[0m\u001b[0;34m,\u001b[0m \u001b[0munused_err\u001b[0m \u001b[0;34m=\u001b[0m \u001b[0mprocess\u001b[0m\u001b[0;34m.\u001b[0m\u001b[0mcommunicate\u001b[0m\u001b[0;34m(\u001b[0m\u001b[0;34m)\u001b[0m\u001b[0;34m\u001b[0m\u001b[0m\n\u001b[0m\u001b[1;32m    569\u001b[0m     \u001b[0mretcode\u001b[0m \u001b[0;34m=\u001b[0m \u001b[0mprocess\u001b[0m\u001b[0;34m.\u001b[0m\u001b[0mpoll\u001b[0m\u001b[0;34m(\u001b[0m\u001b[0;34m)\u001b[0m\u001b[0;34m\u001b[0m\u001b[0m\n\u001b[1;32m    570\u001b[0m     \u001b[0;32mif\u001b[0m \u001b[0mretcode\u001b[0m\u001b[0;34m:\u001b[0m\u001b[0;34m\u001b[0m\u001b[0m\n",
        "\u001b[0;32m/usr/lib/python2.7/subprocess.pyc\u001b[0m in \u001b[0;36mcommunicate\u001b[0;34m(self, input)\u001b[0m\n\u001b[1;32m    790\u001b[0m                 \u001b[0mself\u001b[0m\u001b[0;34m.\u001b[0m\u001b[0mstdin\u001b[0m\u001b[0;34m.\u001b[0m\u001b[0mclose\u001b[0m\u001b[0;34m(\u001b[0m\u001b[0;34m)\u001b[0m\u001b[0;34m\u001b[0m\u001b[0m\n\u001b[1;32m    791\u001b[0m             \u001b[0;32melif\u001b[0m \u001b[0mself\u001b[0m\u001b[0;34m.\u001b[0m\u001b[0mstdout\u001b[0m\u001b[0;34m:\u001b[0m\u001b[0;34m\u001b[0m\u001b[0m\n\u001b[0;32m--> 792\u001b[0;31m                 \u001b[0mstdout\u001b[0m \u001b[0;34m=\u001b[0m \u001b[0m_eintr_retry_call\u001b[0m\u001b[0;34m(\u001b[0m\u001b[0mself\u001b[0m\u001b[0;34m.\u001b[0m\u001b[0mstdout\u001b[0m\u001b[0;34m.\u001b[0m\u001b[0mread\u001b[0m\u001b[0;34m)\u001b[0m\u001b[0;34m\u001b[0m\u001b[0m\n\u001b[0m\u001b[1;32m    793\u001b[0m                 \u001b[0mself\u001b[0m\u001b[0;34m.\u001b[0m\u001b[0mstdout\u001b[0m\u001b[0;34m.\u001b[0m\u001b[0mclose\u001b[0m\u001b[0;34m(\u001b[0m\u001b[0;34m)\u001b[0m\u001b[0;34m\u001b[0m\u001b[0m\n\u001b[1;32m    794\u001b[0m             \u001b[0;32melif\u001b[0m \u001b[0mself\u001b[0m\u001b[0;34m.\u001b[0m\u001b[0mstderr\u001b[0m\u001b[0;34m:\u001b[0m\u001b[0;34m\u001b[0m\u001b[0m\n",
        "\u001b[0;32m/usr/lib/python2.7/subprocess.pyc\u001b[0m in \u001b[0;36m_eintr_retry_call\u001b[0;34m(func, *args)\u001b[0m\n\u001b[1;32m    474\u001b[0m     \u001b[0;32mwhile\u001b[0m \u001b[0mTrue\u001b[0m\u001b[0;34m:\u001b[0m\u001b[0;34m\u001b[0m\u001b[0m\n\u001b[1;32m    475\u001b[0m         \u001b[0;32mtry\u001b[0m\u001b[0;34m:\u001b[0m\u001b[0;34m\u001b[0m\u001b[0m\n\u001b[0;32m--> 476\u001b[0;31m             \u001b[0;32mreturn\u001b[0m \u001b[0mfunc\u001b[0m\u001b[0;34m(\u001b[0m\u001b[0;34m*\u001b[0m\u001b[0margs\u001b[0m\u001b[0;34m)\u001b[0m\u001b[0;34m\u001b[0m\u001b[0m\n\u001b[0m\u001b[1;32m    477\u001b[0m         \u001b[0;32mexcept\u001b[0m \u001b[0;34m(\u001b[0m\u001b[0mOSError\u001b[0m\u001b[0;34m,\u001b[0m \u001b[0mIOError\u001b[0m\u001b[0;34m)\u001b[0m \u001b[0;32mas\u001b[0m \u001b[0me\u001b[0m\u001b[0;34m:\u001b[0m\u001b[0;34m\u001b[0m\u001b[0m\n\u001b[1;32m    478\u001b[0m             \u001b[0;32mif\u001b[0m \u001b[0me\u001b[0m\u001b[0;34m.\u001b[0m\u001b[0merrno\u001b[0m \u001b[0;34m==\u001b[0m \u001b[0merrno\u001b[0m\u001b[0;34m.\u001b[0m\u001b[0mEINTR\u001b[0m\u001b[0;34m:\u001b[0m\u001b[0;34m\u001b[0m\u001b[0m\n",
        "\u001b[0;31mKeyboardInterrupt\u001b[0m: "
       ]
      }
     ],
     "prompt_number": 4
    },
    {
     "cell_type": "raw",
     "metadata": {},
     "source": []
    }
   ],
   "metadata": {}
  }
 ]
}